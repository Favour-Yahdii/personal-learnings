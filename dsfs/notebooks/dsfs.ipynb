{
 "cells": [
  {
   "cell_type": "code",
   "execution_count": 1,
   "metadata": {},
   "outputs": [],
   "source": [
    "#defaultdict\n",
    "from collections import defaultdict\n",
    "\n",
    "word_counts = defaultdict(list)          # int() produces 0\n",
    "word_counts[2].append(1)                 # {2: [1]}"
   ]
  },
  {
   "cell_type": "code",
   "execution_count": 2,
   "metadata": {},
   "outputs": [
    {
     "data": {
      "text/plain": [
       "defaultdict(list, {2: [1]})"
      ]
     },
     "execution_count": 2,
     "metadata": {},
     "output_type": "execute_result"
    }
   ],
   "source": [
    "word_counts"
   ]
  },
  {
   "cell_type": "code",
   "execution_count": 3,
   "metadata": {},
   "outputs": [],
   "source": [
    "def some_function_that_returns_a_string():\n",
    "    return 'string'"
   ]
  },
  {
   "cell_type": "code",
   "execution_count": 4,
   "metadata": {},
   "outputs": [],
   "source": [
    "s = some_function_that_returns_a_string()\n",
    "if s:\n",
    "    first_char = s[0]\n",
    "else:\n",
    "    first_char = \"\""
   ]
  },
  {
   "cell_type": "code",
   "execution_count": 5,
   "metadata": {},
   "outputs": [
    {
     "data": {
      "text/plain": [
       "True"
      ]
     },
     "execution_count": 5,
     "metadata": {},
     "output_type": "execute_result"
    }
   ],
   "source": [
    "all([])               # True, no falsy elements in the list\n",
    "#any([])"
   ]
  },
  {
   "cell_type": "code",
   "execution_count": 6,
   "metadata": {},
   "outputs": [],
   "source": [
    "def generate_range(n):\n",
    "    i = 0\n",
    "    while i < n:\n",
    "        yield i\n",
    "        i += 1"
   ]
  },
  {
   "cell_type": "code",
   "execution_count": 7,
   "metadata": {},
   "outputs": [
    {
     "data": {
      "text/plain": [
       "range(0, 10)"
      ]
     },
     "execution_count": 7,
     "metadata": {},
     "output_type": "execute_result"
    }
   ],
   "source": [
    "range(10) #range is lazy - a generator"
   ]
  },
  {
   "cell_type": "code",
   "execution_count": 8,
   "metadata": {},
   "outputs": [
    {
     "name": "stdout",
     "output_type": "stream",
     "text": [
      "0 1\n",
      "1 2\n",
      "2 3\n"
     ]
    }
   ],
   "source": [
    "#difference between yield and return is that yield is used with generators\n",
    "#generators are lazy though, so they only generate the next value when asked for it and they can only be iterated once.\n",
    "\n",
    "#enumerate - gives a value and its index \n",
    "sid = {1:'one', 2:'two', 3:'three'}\n",
    "for i, v in enumerate(sid):\n",
    "    print(i, v) #only works properly with lists"
   ]
  },
  {
   "cell_type": "code",
   "execution_count": 9,
   "metadata": {},
   "outputs": [],
   "source": [
    "#random numbers\n",
    "#random.random() #random float between 0 and 1\n",
    "#random.randrange(10) #random integer between 0 and 9\n",
    "#random.choice() -random element from a list\n",
    "#random.shuffle() - shuffles a list in place\n",
    "#random.sample() - random sample without replacement\n",
    "\n",
    "\n",
    "#regular expressions\n",
    "#re.match() - matches a regex at the beginning of a string\n",
    "#re.search() - matches a regex anywhere in the string\n",
    "#re.findall() - returns a list of all substrings that match a regex\n",
    "#re.split() - split a string by the occurences of a regex\n",
    "#re.sub() - find and replace a regex\n",
    "\n",
    "#zip - takes two or more lists and returns an iterator of tuples where the i-th tuple contains the i-th element \n",
    "# from each of the argument sequences or iterables.\n",
    "\n",
    "list1 = ['a', 'b', 'c', 'd']\n",
    "list2 = [1, 2, 3]\n",
    "\n",
    "pairs = list(zip(list1, list2)) # [('a', 1), ('b', 2), ('c', 3)] ignores extra elements without matching pair"
   ]
  },
  {
   "cell_type": "code",
   "execution_count": 10,
   "metadata": {},
   "outputs": [],
   "source": [
    "#using asterik trick to unzip\n",
    "letters, numbers = zip(*pairs) #letters = ('a', 'b', 'c'), numbers = (1, 2, 3)"
   ]
  },
  {
   "cell_type": "code",
   "execution_count": 11,
   "metadata": {},
   "outputs": [
    {
     "data": {
      "text/plain": [
       "(1, 2, 3)"
      ]
     },
     "execution_count": 11,
     "metadata": {},
     "output_type": "execute_result"
    }
   ],
   "source": [
    "numbers"
   ]
  },
  {
   "cell_type": "code",
   "execution_count": 12,
   "metadata": {},
   "outputs": [
    {
     "data": {
      "text/plain": [
       "18"
      ]
     },
     "execution_count": 12,
     "metadata": {},
     "output_type": "execute_result"
    }
   ],
   "source": [
    "#args and kwargs\n",
    "def doubler(f): \n",
    "    \"\"\" \n",
    "    takes a function as an argument,\n",
    "    returns a new function that for any input returns twice the original function\n",
    "    \n",
    "    param f: function\n",
    "    \"\"\"\n",
    "    \n",
    "    \n",
    "    def g(x):\n",
    "        return 2 * f(x) #this returns 2 * f, f is a function,\n",
    "        #f is defined as f1, so g(x) = 2 * f1(x)\n",
    "    return g\n",
    "\n",
    "def f1(x): #this is f in the doubler function\n",
    "    return x + 1\n",
    "doubler(f1)(8) #the 8 is the x in g(x)"
   ]
  },
  {
   "cell_type": "code",
   "execution_count": 13,
   "metadata": {},
   "outputs": [],
   "source": [
    "#lets try doubler with 2 arguments\n",
    "def f2(x, y):\n",
    "    return (x + y) * 2"
   ]
  },
  {
   "cell_type": "code",
   "execution_count": 14,
   "metadata": {},
   "outputs": [],
   "source": [
    "#lets fix this with args and kwargs, \n",
    "#args is a tuple of positional/unnamed arguments\n",
    "#kwargs is a dictionary of keyword/named arguments\n",
    "def magic(*args, **kwargs):\n",
    "    print(\"unnamed args:\", args)\n",
    "    print(\"keyword args:\", kwargs)"
   ]
  },
  {
   "cell_type": "code",
   "execution_count": 15,
   "metadata": {},
   "outputs": [
    {
     "name": "stdout",
     "output_type": "stream",
     "text": [
      "unnamed args: (1, 2)\n",
      "keyword args: {'key': 'word', 'key2': 'word2'}\n"
     ]
    }
   ],
   "source": [
    "magic(1, 2, key=\"word\", key2=\"word2\") #essentially * puts stuff into tuples and ** puts stuff into dictionariesb"
   ]
  },
  {
   "cell_type": "code",
   "execution_count": 16,
   "metadata": {},
   "outputs": [
    {
     "data": {
      "text/plain": [
       "40"
      ]
     },
     "execution_count": 16,
     "metadata": {},
     "output_type": "execute_result"
    }
   ],
   "source": [
    "#lets correct doubler\n",
    "def doubler_correct(f):\n",
    "    \"\"\"works no matter what kind of inputs f expects\"\"\"\n",
    "    def g(**kwargs):\n",
    "        \"\"\"this is the function that doubler returns\"\"\"\n",
    "        return 2 * f(**kwargs)\n",
    "    return g\n",
    "def f2(**kwargs):\n",
    "    x = kwargs['one']\n",
    "    y = kwargs['nine']\n",
    "    return (x + y) * 2\n",
    "\n",
    "doubler_correct(f2)(**{'one':1, 'nine':9}) #despite the ease of use, its best to be explicit with your arguments"
   ]
  },
  {
   "cell_type": "code",
   "execution_count": 17,
   "metadata": {},
   "outputs": [
    {
     "name": "stderr",
     "output_type": "stream",
     "text": [
      "Version 1.0.5\n"
     ]
    }
   ],
   "source": [
    "%load_ext nb_mypy"
   ]
  },
  {
   "cell_type": "code",
   "execution_count": 18,
   "metadata": {},
   "outputs": [
    {
     "name": "stderr",
     "output_type": "stream",
     "text": [
      "<cell>5: \u001b[1m\u001b[91merror:\u001b[0m Argument 1 to \u001b[0m\u001b[1m\"add\"\u001b[0m has incompatible type \u001b[0m\u001b[1m\"str\"\u001b[0m; expected \u001b[0m\u001b[1m\"int\"\u001b[0m  \u001b[0m\u001b[93m[arg-type]\u001b[0m\n",
      "<cell>5: \u001b[1m\u001b[91merror:\u001b[0m Argument 2 to \u001b[0m\u001b[1m\"add\"\u001b[0m has incompatible type \u001b[0m\u001b[1m\"str\"\u001b[0m; expected \u001b[0m\u001b[1m\"int\"\u001b[0m  \u001b[0m\u001b[93m[arg-type]\u001b[0m\n"
     ]
    },
    {
     "data": {
      "text/plain": [
       "'jihi'"
      ]
     },
     "execution_count": 18,
     "metadata": {},
     "output_type": "execute_result"
    }
   ],
   "source": [
    "#type annotations in functions\n",
    "def add(a: int, b: int) -> float:\n",
    "    return a + b\n",
    "\n",
    "add('ji', 'hi')"
   ]
  },
  {
   "cell_type": "code",
   "execution_count": 19,
   "metadata": {},
   "outputs": [],
   "source": [
    "def triper(f):\n",
    "    def g(x):\n",
    "        return 3 * f(x)\n",
    "    return g"
   ]
  },
  {
   "cell_type": "code",
   "execution_count": 20,
   "metadata": {},
   "outputs": [
    {
     "data": {
      "image/png": "[encoded data removed]",
      "text/plain": [
       "<Figure size 640x480 with 1 Axes>"
      ]
     },
     "metadata": {},
     "output_type": "display_data"
    }
   ],
   "source": [
    "#Visualizing data\n",
    "#matplotlib\n",
    "from matplotlib import pyplot as plt\n",
    "years = [1950, 1960, 1970, 1980, 1990, 2000, 2010]\n",
    "gdp = [300.2, 543.3, 1075.9, 2862.5, 5979.6, 10289.7, 14958.3]\n",
    "#create a line chart, years on x-axis, gdp on y-axis\n",
    "plt.plot(years, gdp, color='green', marker='o', linestyle='dashdot')\n",
    "plt.title(\"Nominal GDP\")\n",
    "plt.ylabel(\"Billions of $\")\n",
    "plt.show()"
   ]
  },
  {
   "cell_type": "code",
   "execution_count": 21,
   "metadata": {},
   "outputs": [
    {
     "name": "stdout",
     "output_type": "stream",
     "text": [
      "0\n",
      "1\n",
      "2\n",
      "3\n",
      "4\n",
      "5\n",
      "6\n"
     ]
    }
   ],
   "source": [
    "for i in range(len(years)):\n",
    "    print(i)"
   ]
  },
  {
   "cell_type": "code",
   "execution_count": 22,
   "metadata": {},
   "outputs": [
    {
     "data": {
      "text/plain": [
       "<BarContainer object of 7 artists>"
      ]
     },
     "execution_count": 22,
     "metadata": {},
     "output_type": "execute_result"
    },
    {
     "data": {
      "image/png": "[encoded data removed]",
      "text/plain": [
       "<Figure size 640x480 with 1 Axes>"
      ]
     },
     "metadata": {},
     "output_type": "display_data"
    }
   ],
   "source": [
    "plt.bar(range(len(years)), gdp)"
   ]
  },
  {
   "cell_type": "code",
   "execution_count": 23,
   "metadata": {},
   "outputs": [],
   "source": [
    "from collections import Counter\n",
    "grades = [83,95,91,87,70,0,85,82,100,67,73,77,0]\n",
    "histogram = Counter(min(grade // 10 * 10, 90) for grade in grades)"
   ]
  },
  {
   "cell_type": "code",
   "execution_count": 24,
   "metadata": {},
   "outputs": [
    {
     "data": {
      "text/plain": [
       "Counter({80: 4, 90: 3, 70: 3, 0: 2, 60: 1})"
      ]
     },
     "execution_count": 24,
     "metadata": {},
     "output_type": "execute_result"
    }
   ],
   "source": [
    "histogram"
   ]
  },
  {
   "cell_type": "code",
   "execution_count": 25,
   "metadata": {},
   "outputs": [
    {
     "data": {
      "image/png": "[encoded data removed]",
      "text/plain": [
       "<Figure size 640x480 with 1 Axes>"
      ]
     },
     "metadata": {},
     "output_type": "display_data"
    }
   ],
   "source": [
    "plt.bar([x + 5 for x in histogram.keys()], \n",
    "        histogram.values(),\n",
    "        10,\n",
    "        edgecolor=(0,0,0))\n",
    "plt.xticks([10 * i for i in range(11)])\n",
    "plt.axis([-5, 105, 0, 5])\n",
    "plt.show();"
   ]
  },
  {
   "cell_type": "code",
   "execution_count": 26,
   "metadata": {},
   "outputs": [],
   "source": [
    "#line charts\n",
    "variance = [1,2,4,8,16,32,64,128,256]\n",
    "bias_squared = [256,128,64,32,16,8,4,2,1]\n",
    "total_error = [x + y for x, y in zip(variance, bias_squared)]\n",
    "xs = [i for i, _ in enumerate(variance)]"
   ]
  },
  {
   "cell_type": "code",
   "execution_count": 27,
   "metadata": {},
   "outputs": [
    {
     "data": {
      "text/plain": [
       "<matplotlib.legend.Legend at 0x1efc48c6890>"
      ]
     },
     "execution_count": 27,
     "metadata": {},
     "output_type": "execute_result"
    },
    {
     "data": {
      "image/png": "[encoded data removed]",
      "text/plain": [
       "<Figure size 640x480 with 1 Axes>"
      ]
     },
     "metadata": {},
     "output_type": "display_data"
    }
   ],
   "source": [
    "plt.plot(variance, 'g-', label='variance')\n",
    "plt.plot(bias_squared, 'r-.', label='bias^2')\n",
    "plt.plot(total_error, 'b:', label='total error')\n",
    "plt.xticks([])\n",
    "plt.legend(loc=9)"
   ]
  },
  {
   "cell_type": "code",
   "execution_count": 28,
   "metadata": {},
   "outputs": [
    {
     "data": {
      "text/plain": [
       "<matplotlib.collections.PathCollection at 0x1efc4335250>"
      ]
     },
     "execution_count": 28,
     "metadata": {},
     "output_type": "execute_result"
    },
    {
     "data": {
      "image/png": "[encoded data removed]",
      "text/plain": [
       "<Figure size 640x480 with 1 Axes>"
      ]
     },
     "metadata": {},
     "output_type": "display_data"
    }
   ],
   "source": [
    "#scatterplots\n",
    "friends = [70,65,72,63,71,64,60,64,67]\n",
    "minutes = [175,170,205,120,220,130,105,145,190]\n",
    "labels = ['a','b','c','d','e','f','g','h','i']\n",
    "\n",
    "plt.scatter(friends, minutes)\n"
   ]
  },
  {
   "cell_type": "code",
   "execution_count": 29,
   "metadata": {},
   "outputs": [
    {
     "data": {
      "image/png": "[encoded data removed]",
      "text/plain": [
       "<Figure size 640x480 with 1 Axes>"
      ]
     },
     "metadata": {},
     "output_type": "display_data"
    }
   ],
   "source": [
    "#scatterplots\n",
    "friends = [70,65,72,63,71,64,60,64,67]\n",
    "minutes = [175,170,205,120,220,130,105,145,190]\n",
    "labels = ['a','b','c','d','e','f','g','h','i']\n",
    "\n",
    "#the above works but lets zip all and label the points\n",
    "for label, friend_count, minute_count in zip(labels, friends, minutes):\n",
    "    #print(label, friend_count, minute_count)\n",
    "        plt.annotate(label,\n",
    "                xy=(friend_count, minute_count),\n",
    "                xytext=(5,-5),\n",
    "                textcoords='offset points')\n",
    "plt.scatter(friends, minutes)\n",
    "plt.show()"
   ]
  },
  {
   "cell_type": "markdown",
   "metadata": {},
   "source": [
    "Vega-altair, bokeh"
   ]
  },
  {
   "cell_type": "code",
   "execution_count": 30,
   "metadata": {},
   "outputs": [],
   "source": [
    "#linear algebra\n",
    "#vectors\n",
    "#vectors are lists of numbers, they represent points in space\n",
    "#the length of a vector is the number of elements it has\n",
    "#we can add vectors, subtract vectors, and multiply vectors by scalars\n",
    "#we can also compute the dot product of two vectors, which is the sum of their componentwise products\n",
    "#the dot product measures how far the vector v extends in the v direction\n",
    "#the dot product of a vector v with itself is v1^2 + v2^2 + ... + vn^2\n",
    "#the magnitude is the sqrt of the dot product of a vector with itself\n",
    "#the distance between two vectors is the magnitude of their difference\n",
    "\n",
    "#matrices\n",
    "#matrices are 2D collections of numbers\n",
    "#we can represent matrices in python as lists of lists, with each inner list having the same size and representing a row of the matrix\n",
    "#matrices can be represented as n x k matrices, where n is the number of rows and k is the number of columns\n",
    "#a row of an n x k matrix is a vector with k elements\n",
    "#a column of an n x k matrix is a vector with n elements\n",
    "#we can represent binary relationships with matrices\n",
    "\n"
   ]
  },
  {
   "cell_type": "code",
   "execution_count": 31,
   "metadata": {},
   "outputs": [],
   "source": [
    "#instead of looking at standard deviation, we can find difference between\n",
    "#the 75th percentile and the 25th percentile, this is called the interquartile range\n",
    "\n",
    "#covariance - measures how two variables vary in tandem from their means\n",
    "#correlation - measures how two variables vary in tandem from their means, but it is unitless and always lies between -1 and 1\n",
    "#correlation is a unitless version of covariance\n",
    "#correlation is sensitive to outliers\n",
    "#correlation is useful when all else is equal, but it can be misleading when not all else is equal (simpson's paradox)\n",
    "#if there is a connection between 2 variables and a third variable, that variable might be a confounding variable"
   ]
  },
  {
   "cell_type": "code",
   "execution_count": 32,
   "metadata": {},
   "outputs": [],
   "source": [
    "#probability\n",
    "#2 events are independent if the probability that they both happen is the product of the probabilities that each one happens\n"
   ]
  },
  {
   "cell_type": "code",
   "execution_count": 33,
   "metadata": {},
   "outputs": [
    {
     "data": {
      "text/plain": [
       "0.25"
      ]
     },
     "execution_count": 33,
     "metadata": {},
     "output_type": "execute_result"
    }
   ],
   "source": [
    "0.5*0.5"
   ]
  },
  {
   "cell_type": "code",
   "execution_count": 34,
   "metadata": {},
   "outputs": [],
   "source": [
    "#conditional probability\n",
    "#with 2 independent events, the probability of both happening is the product of their probabilities\n",
    "\n",
    "#if they are not really independent and the P(B) != 0, then the probability of A given B is\n",
    "#P(A, B) / P(B) = P(A)P(B) / P(B) \n",
    "#P(A,B) = P(A|B)P(B)\n",
    "#P(A|B) = P(A)\n",
    "\n",
    "#when A and B are independent, P(A|B) = P(A),\n",
    "#P(B|A) = P(B)\n"
   ]
  },
  {
   "cell_type": "code",
   "execution_count": 2,
   "metadata": {},
   "outputs": [
    {
     "name": "stdout",
     "output_type": "stream",
     "text": [
      "0.9701425001453319\n"
     ]
    }
   ],
   "source": [
    "import math\n",
    " \n",
    "query = [1, 1]\n",
    "doc1 = [3, 5]\n",
    " \n",
    "def length(vector):                                            \n",
    "    sq_length = 0\n",
    "    for index in range(0, len(vector)):\n",
    "        sq_length += math.pow(vector[index], 2)                \n",
    "    return math.sqrt(sq_length)                                \n",
    "    \n",
    "def dot_product(vector1, vector2):                             \n",
    "    if len(vector1)==len(vector2):\n",
    "        dot_prod = 0\n",
    "        for index in range(0, len(vector1)):\n",
    "            dot_prod += vector1[index]* vector2[index]\n",
    "        return dot_prod\n",
    "    else:\n",
    "        return 'unmatching dimensions'\n",
    "cosine=dot_product(query, doc1)/(length(query)*length(doc1))   \n",
    "print (cosine)      "
   ]
  },
  {
   "cell_type": "code",
   "execution_count": 6,
   "metadata": {},
   "outputs": [
    {
     "name": "stdout",
     "output_type": "stream",
     "text": [
      "55\n",
      "0.9899494936611665 0.6766252893427926 0.773957299203321\n"
     ]
    }
   ],
   "source": [
    "#exercise 1\n",
    "#calculate cosine similarity between 2 vectors\n",
    "veca = [4,3]\n",
    "vecb = [5,5]\n",
    "vecc = [1,10]\n",
    "\n",
    "#first calculate length of each vector\n",
    "length = lambda x: math.sqrt(sum(i**2 for i in x))\n",
    "\n",
    "#then calculate dot product between vectors\n",
    "dot_product = lambda x: sum(i * j for i, j in x)\n",
    "dot_product(zip(veca, vecb))\n",
    "print(dot_product(zip(vecb, vecc)))\n",
    "#then calculate cosine similarity\n",
    "#cosine = dot_product / (length of vector a * length of vector b)\n",
    "cosine = dot_product(zip(veca, vecb)) / (length(veca) * length(vecb))\n",
    "cosineb = dot_product(zip(veca, vecc)) / (length(veca) * length(vecc))\n",
    "cosinec = dot_product(zip(vecb, vecc)) / (length(vecb) * length(vecc))\n",
    "print(cosine, cosineb, cosinec)"
   ]
  },
  {
   "cell_type": "code",
   "execution_count": null,
   "metadata": {},
   "outputs": [],
   "source": [
    "##exercise 2 - spam filtering\n"
   ]
  }
 ],
 "metadata": {
  "kernelspec": {
   "display_name": "Python 3",
   "language": "python",
   "name": "python3"
  },
  "language_info": {
   "codemirror_mode": {
    "name": "ipython",
    "version": 3
   },
   "file_extension": ".py",
   "mimetype": "text/x-python",
   "name": "python",
   "nbconvert_exporter": "python",
   "pygments_lexer": "ipython3",
   "version": "3.11.5"
  }
 },
 "nbformat": 4,
 "nbformat_minor": 2
}

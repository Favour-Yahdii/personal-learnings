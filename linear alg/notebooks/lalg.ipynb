{
 "cells": [
  {
   "cell_type": "markdown",
   "metadata": {},
   "source": [
    "## Vectors"
   ]
  },
  {
   "cell_type": "code",
   "execution_count": 1,
   "metadata": {},
   "outputs": [],
   "source": [
    "#vectors\n",
    "#vectors can be row or column oriented\n",
    "#linalg assumes column orientation\n",
    "#row orirentation is often gotten by transposing the vector\n"
   ]
  },
  {
   "cell_type": "code",
   "execution_count": 2,
   "metadata": {},
   "outputs": [],
   "source": [
    "#creating a vector\n",
    "import numpy as np\n",
    "asList = [1,2,3]\n",
    "asArray = np.array(asList) #orientationless vector (1D list of numbers in an array)\n",
    "rowVector = np.array([asList]) #row vector\n",
    "colVector = np.array([[1],[2],[3]]) #column vector\n",
    "\n",
    "#orientation is given by brackets"
   ]
  },
  {
   "cell_type": "code",
   "execution_count": 3,
   "metadata": {},
   "outputs": [
    {
     "data": {
      "text/plain": [
       "array([[1],\n",
       "       [2],\n",
       "       [3]])"
      ]
     },
     "execution_count": 3,
     "metadata": {},
     "output_type": "execute_result"
    }
   ],
   "source": [
    "colVector"
   ]
  },
  {
   "cell_type": "code",
   "execution_count": 4,
   "metadata": {},
   "outputs": [
    {
     "name": "stdout",
     "output_type": "stream",
     "text": [
      "[[2 4 6]]\n",
      "[[2]\n",
      " [4]\n",
      " [6]]\n",
      "[[ 4  6  8]\n",
      " [ 6  8 10]\n",
      " [ 8 10 12]]\n"
     ]
    }
   ],
   "source": [
    "#can you add a row vector to a column vector?\n",
    "rowVec1 = np.array([[2,4,6]])\n",
    "colVec1 = np.array([[2], [4], [6]])\n",
    "\n",
    "#rowVec1 + colVec1 \n",
    "print(rowVec1)\n",
    "print(colVec1)\n",
    "\n",
    "print(rowVec1 + colVec1)\n"
   ]
  },
  {
   "cell_type": "code",
   "execution_count": 5,
   "metadata": {},
   "outputs": [
    {
     "name": "stdout",
     "output_type": "stream",
     "text": [
      "[[4 5 6]]\n",
      "[[10]\n",
      " [20]\n",
      " [30]]\n"
     ]
    },
    {
     "data": {
      "text/plain": [
       "array([[14, 15, 16],\n",
       "       [24, 25, 26],\n",
       "       [34, 35, 36]])"
      ]
     },
     "execution_count": 5,
     "metadata": {},
     "output_type": "execute_result"
    }
   ],
   "source": [
    "v = np.array([[4,5,6]])\n",
    "w = np.array([[10],[20],[30]])\n",
    "print(v)\n",
    "print(w)\n",
    "v+w #python is broadcasting the row vector to a column vector\n"
   ]
  },
  {
   "cell_type": "code",
   "execution_count": 6,
   "metadata": {},
   "outputs": [
    {
     "name": "stdout",
     "output_type": "stream",
     "text": [
      "[ 6  8 10]\n",
      "[3, 4, 5, 3, 4, 5]\n",
      "[ 6.  8. 10.]\n"
     ]
    },
    {
     "ename": "TypeError",
     "evalue": "can't multiply sequence by non-int of type 'float'",
     "output_type": "error",
     "traceback": [
      "\u001b[1;31m---------------------------------------------------------------------------\u001b[0m",
      "\u001b[1;31mTypeError\u001b[0m                                 Traceback (most recent call last)",
      "\u001b[1;32mc:\\Users\\Yahdii\\OneDrive\\Desktop\\Air BnB Clustering and Sentiment Analysis\\notebooks\\lalg.ipynb Cell 7\u001b[0m line \u001b[0;36m9\n\u001b[0;32m      <a href='vscode-notebook-cell:/c%3A/Users/Yahdii/OneDrive/Desktop/Air%20BnB%20Clustering%20and%20Sentiment%20Analysis/notebooks/lalg.ipynb#W6sZmlsZQ%3D%3D?line=6'>7</a>\u001b[0m \u001b[39mprint\u001b[39m(a\u001b[39m*\u001b[39ms)\n\u001b[0;32m      <a href='vscode-notebook-cell:/c%3A/Users/Yahdii/OneDrive/Desktop/Air%20BnB%20Clustering%20and%20Sentiment%20Analysis/notebooks/lalg.ipynb#W6sZmlsZQ%3D%3D?line=7'>8</a>\u001b[0m \u001b[39mprint\u001b[39m(b\u001b[39m*\u001b[39msfloat)\n\u001b[1;32m----> <a href='vscode-notebook-cell:/c%3A/Users/Yahdii/OneDrive/Desktop/Air%20BnB%20Clustering%20and%20Sentiment%20Analysis/notebooks/lalg.ipynb#W6sZmlsZQ%3D%3D?line=8'>9</a>\u001b[0m \u001b[39mprint\u001b[39m(a\u001b[39m*\u001b[39msfloat)\n",
      "\u001b[1;31mTypeError\u001b[0m: can't multiply sequence by non-int of type 'float'"
     ]
    }
   ],
   "source": [
    "#zero vector = vector of 0s, the trivial solution\n",
    "s = 2\n",
    "sfloat = 2.0\n",
    "a = [3,4,5]\n",
    "b = np.array(a)\n",
    "print(b*s)\n",
    "print(a*s)\n",
    "print(b*sfloat)\n",
    "print(a*sfloat)"
   ]
  },
  {
   "cell_type": "code",
   "execution_count": null,
   "metadata": {},
   "outputs": [],
   "source": [
    "#scalars scale vectors without changing their direction\n",
    "#averaging  vectors\n",
    "#average by summing and scalar multiplying  by the 1/number of vectors\n",
    "ave_v = v+w/1/2"
   ]
  },
  {
   "cell_type": "code",
   "execution_count": null,
   "metadata": {},
   "outputs": [],
   "source": [
    "ave_v = (v+w)*1/2"
   ]
  },
  {
   "cell_type": "code",
   "execution_count": null,
   "metadata": {},
   "outputs": [],
   "source": [
    "#transposing\n",
    "#transposing swaps row and column indexes"
   ]
  },
  {
   "cell_type": "code",
   "execution_count": null,
   "metadata": {},
   "outputs": [
    {
     "data": {
      "text/plain": [
       "array([[11, 12, 13],\n",
       "       [21, 22, 23]])"
      ]
     },
     "execution_count": 20,
     "metadata": {},
     "output_type": "execute_result"
    }
   ],
   "source": [
    "v = np.array([[1,2,3]])\n",
    "w = np.array([[10], [20]])\n",
    "\n",
    "v + w"
   ]
  },
  {
   "cell_type": "code",
   "execution_count": 11,
   "metadata": {},
   "outputs": [
    {
     "name": "stdout",
     "output_type": "stream",
     "text": [
      "[[1 2 3]]\n"
     ]
    }
   ],
   "source": [
    "#vector magnitude = geometric length of a vector\n",
    "#manitude = euclidean distance, sqrt of sum of squares of elements\n",
    "#np.norm() = geometric length of a vector\n",
    "#len() = dimensionality of the vector\n",
    "\n",
    "v = np.array([[1,2,3]])\n",
    "dim = len(v)\n",
    "mag = np.linalg.norm(v)\n",
    "print(v)"
   ]
  },
  {
   "cell_type": "code",
   "execution_count": 12,
   "metadata": {},
   "outputs": [],
   "source": [
    "#vectors with geometric length of 1 are called unit vectors\n",
    "#eigenvectors, orthogonal matrices, rotation matrices, and singular vectors are some examples of unit vectors\n",
    "#all nonunit vectors have associated unit vectors\n",
    "\n",
    "#to create a unit vector, multiply the vector by 1/magnitude"
   ]
  },
  {
   "cell_type": "code",
   "execution_count": null,
   "metadata": {},
   "outputs": [],
   "source": [
    "#dot product = elementwise multiplication and sum\n",
    "#dot product is a scalar"
   ]
  },
  {
   "cell_type": "code",
   "execution_count": 22,
   "metadata": {},
   "outputs": [
    {
     "name": "stdout",
     "output_type": "stream",
     "text": [
      "220 220\n"
     ]
    }
   ],
   "source": [
    "v = np.array([1,2,3])\n",
    "w = np.array([10,20, 30])\n",
    "x = np.array([12, 13, 14])\n",
    "\n",
    "# #np.dot(v,w) #output is a dot multiplication only when input 1 is row wise and input 2 is column wise\n",
    "\n",
    "# #if you scalar multiply one vector, the dot product scales by the same amount\n",
    "\n",
    "# #lets do dot product where we scalar multply one vector\n",
    "# #v = np.array([[1,2,3]])\n",
    "# #w = np.array([[10], [20], [30]])\n",
    "# s = -1 #magnitude remains the same but direction is reversed\n",
    "# t = 20\n",
    "# print(np.dot(s*v,w))\n",
    "# print(np.dot(t*v,w))\n",
    "# print(140*20)  #dot product measures the similarity between two vectors\n",
    "\n",
    "\n",
    "#the dot product is distributive\n",
    "res1 = np.dot(v, w+x)\n",
    "res2 = np.dot(v,w) + np.dot(v,x)\n",
    "print(res1, res2)"
   ]
  },
  {
   "cell_type": "code",
   "execution_count": 23,
   "metadata": {},
   "outputs": [],
   "source": [
    "#orthogonal vectors = perpendicular vectors, have a dot product of 0"
   ]
  },
  {
   "cell_type": "code",
   "execution_count": 30,
   "metadata": {},
   "outputs": [
    {
     "name": "stdout",
     "output_type": "stream",
     "text": [
      "(4,)\n",
      "(4,)\n"
     ]
    },
    {
     "data": {
      "text/plain": [
       "array([ 5,  8, 24, 14])"
      ]
     },
     "execution_count": 30,
     "metadata": {},
     "output_type": "execute_result"
    }
   ],
   "source": [
    "#hadamard product = elementwise multiplication\n",
    "a = np.array([5,4,8,2])\n",
    "print(a.shape)\n",
    "b = np.array([1,2,3,7])\n",
    "print(b.shape)\n",
    "a*b"
   ]
  },
  {
   "cell_type": "code",
   "execution_count": null,
   "metadata": {},
   "outputs": [],
   "source": [
    "#outer product - produces a matrix instead of a scalar\n",
    "#vectors are assumed in column orientation, so an outer product is a col vector * a row vector\n",
    "#outer product is similar to broadcasting but thery're not the same, broadcasting is a general operation used in diff arithmetic operations, outer product is a specific multiplication operation\n",
    "\n",
    "#outer product = np.outer(v,w) or np.dot(v,w.T) when v is column oriented and w is row oriented and w is row oriented"
   ]
  },
  {
   "cell_type": "code",
   "execution_count": null,
   "metadata": {},
   "outputs": [],
   "source": [
    "#what scalar would you multiply the vector  a by such that the geometric head of b would be perpendicular to head of that new vector?\n",
    "#dot product of b and beta*a = 0 (orthogonal).\n",
    "#beta (scalar value) = at*b/(at*a) <- this is the scalar of the orthogonal projection of b onto a\n",
    "\n",
    "\n",
    "#vector decomposition\n",
    "#decompose a vector into 2 vectors that sum up to the target where one is orthogonal to the reference and the other is parallel to the reference\n",
    "\n",
    "#to find the parallel vector, use the orthogonal projection on the reference vector = (at*b)/(at*a) * b\n",
    "#to find the orthogonal vector, subtract the parallel vector from the target vector\n",
    "#to prove that the pepndicular vector is orthogonal to the reference vector, take the dot product of the two vectors(perpendicular and reference) and show that it equals 0\n"
   ]
  },
  {
   "cell_type": "markdown",
   "metadata": {},
   "source": [
    "### Chapter 2 Summary\n",
    "- A vector is an ordered list of numbers that is placed in a column or in a row. The number of elements in a vector is called its dimensionality, and a vector can be represented as a line in a geometric space with the number of axes equal to the dimensionality. <br>\n",
    "\n",
    "- Several arithmetic operations (addition, subtraction, and Hadamard multiplication) on vectors work element-wise. <br>\n",
    "\n",
    "- The dot product is a single number that encodes the relationship between two vectors of the same dimensionality, and is computed as element-wise multiplication and sum. <br>\n",
    "\n",
    "- The dot product is zero for vectors that are orthogonal, which geometrically means that the vectors meet at a right angle. <br>\n",
    "\n",
    "- Orthogonal vector decomposition involves breaking up a vector into the sum of two other vectors that are orthogonal and parallel to a reference vector. The formula for this decomposition can be rederived from the geometry, but you should remember the phrase “mapping over magnitude” as the concept that that formula expresses."
   ]
  },
  {
   "cell_type": "markdown",
   "metadata": {},
   "source": [
    "### Code Exercises"
   ]
  },
  {
   "cell_type": "code",
   "execution_count": 40,
   "metadata": {},
   "outputs": [
    {
     "data": {
      "image/png": "[encoded data removed]",
      "text/plain": [
       "<Figure size 640x480 with 1 Axes>"
      ]
     },
     "metadata": {},
     "output_type": "display_data"
    }
   ],
   "source": [
    "#write code to produce fig 2.2\n",
    "import numpy as np\n",
    "import matplotlib.pyplot as plt\n",
    "veca = np.array([-1, 2])\n",
    "\n",
    "plt.arrow(0,0, veca[0], veca[1], head_width = .5, width=0.1)\n",
    "plt.plot(0,0, 'ko', markerfacecolor='k', markersize=7)\n",
    "\n",
    "#add axis lines\n",
    "plt.plot([-3,3],[0,0],'--',color=[.8,.8,.8],zorder=-1)\n",
    "plt.plot([0,0],[-3,3],'--',color=[.8,.8,.8],zorder=-1)\n",
    "\n",
    "# make the plot look nicer\n",
    "plt.axis('square')\n",
    "plt.axis([-3,3,-3,3])\n",
    "plt.title('Vector v in standard position')\n",
    "plt.show()\n",
    "\n"
   ]
  }
 ],
 "metadata": {
  "kernelspec": {
   "display_name": "Python 3",
   "language": "python",
   "name": "python3"
  },
  "language_info": {
   "codemirror_mode": {
    "name": "ipython",
    "version": 3
   },
   "file_extension": ".py",
   "mimetype": "text/x-python",
   "name": "python",
   "nbconvert_exporter": "python",
   "pygments_lexer": "ipython3",
   "version": "3.11.5"
  }
 },
 "nbformat": 4,
 "nbformat_minor": 2
}
